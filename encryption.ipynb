{
  "cells": [
    {
      "cell_type": "markdown",
      "metadata": {
        "id": "view-in-github",
        "colab_type": "text"
      },
      "source": [
        "<a href=\"https://colab.research.google.com/github/Priyatamkumar/Data-encryption-and-Authentication/blob/main/encryption.ipynb\" target=\"_parent\"><img src=\"https://colab.research.google.com/assets/colab-badge.svg\" alt=\"Open In Colab\"/></a>"
      ]
    },
    {
      "cell_type": "code",
      "execution_count": null,
      "metadata": {
        "colab": {
          "base_uri": "https://localhost:8080/",
          "height": 71
        },
        "id": "3GhU1qNDKyWP",
        "outputId": "ada96533-1928-4427-c9e4-94ae2d5d28bd"
      },
      "outputs": [
        {
          "data": {
            "application/vnd.google.colaboratory.intrinsic+json": {
              "type": "string"
            },
            "text/plain": [
              "'\\n\\n# Example usage:\\n\\nplaintext = \"HELLO WORLD\"\\n\\nkey = \"WORLD\"\\nscytale_cipher = ScytaleCipher(len(key))  # Example diameter\\nencrypted_message = scytale_cipher.encrypt(plaintext)\\nprint(\"Encrypted Message:\", encrypted_message)\\n\\ndecrypted_message = scytale_cipher.decrypt(encrypted_message)\\nprint(\"Decrypted Message:\", decrypted_message)\\n\\n\\n'"
            ]
          },
          "execution_count": 53,
          "metadata": {},
          "output_type": "execute_result"
        }
      ],
      "source": [
        "import math\n",
        "\n",
        "\n",
        "class ScytaleCipher:\n",
        "    def __init__(self, diameter):\n",
        "        self.diameter = diameter\n",
        "\n",
        "    def encrypt1(self, plaintext):\n",
        "        num_rows = math.ceil(len(plaintext) / self.diameter)\n",
        "        padded_plaintext = plaintext.ljust(num_rows * self.diameter)\n",
        "\n",
        "        encrypted_text = ''\n",
        "        for col in range(self.diameter):\n",
        "            for row in range(num_rows):\n",
        "                index = col + row * self.diameter\n",
        "                encrypted_text += padded_plaintext[index]\n",
        "        return encrypted_text\n",
        "\n",
        "    def decrypt1(self, ciphertext):\n",
        "        num_rows = math.ceil(len(ciphertext) / self.diameter)\n",
        "        decrypted_text = ''\n",
        "        for row in range(num_rows):\n",
        "            for col in range(self.diameter):\n",
        "                index = col * num_rows + row\n",
        "                decrypted_text += ciphertext[index]\n",
        "        return decrypted_text.strip()\n",
        "\n",
        "\n",
        "\n",
        "\"\"\"\n",
        "\n",
        "# Example usage:\n",
        "\n",
        "plaintext = \"HELLO WORLD\"\n",
        "\n",
        "key = \"WORLD\"\n",
        "scytale_cipher = ScytaleCipher(len(key))  # Example diameter\n",
        "encrypted_message = scytale_cipher.encrypt(plaintext)\n",
        "print(\"Encrypted Message:\", encrypted_message)\n",
        "\n",
        "decrypted_message = scytale_cipher.decrypt(encrypted_message)\n",
        "print(\"Decrypted Message:\", decrypted_message)\n",
        "\n",
        "\n",
        "\"\"\""
      ]
    },
    {
      "cell_type": "code",
      "execution_count": null,
      "metadata": {
        "id": "oG7NSvoc88fN"
      },
      "outputs": [],
      "source": [
        "def vigenere_encrypt(plaintext, key):\n",
        "    encrypted_text = \"\"\n",
        "    key_index = 0\n",
        "    for char in plaintext:\n",
        "        if char.isalpha():\n",
        "            shift = ord(key[key_index % len(key)].upper()) - ord('A')\n",
        "            if char.isupper():\n",
        "                encrypted_char = chr((ord(char) - ord('A')  + shift) % 26 + ord('A'))\n",
        "            else:\n",
        "                encrypted_char = chr((ord(char) - ord('a') + shift) % 26 + ord('a'))\n",
        "            encrypted_text += encrypted_char\n",
        "            key_index += 1\n",
        "        else:\n",
        "            encrypted_text += char\n",
        "    return encrypted_text\n",
        "\n",
        "def vigenere_decrypt(ciphertext, key):\n",
        "    decrypted_text = \"\"\n",
        "    key_index = 0\n",
        "    for char in ciphertext:\n",
        "        if char.isalpha():\n",
        "            shift = ord(key[key_index % len(key)].upper()) - ord('A')\n",
        "            if char.isupper():\n",
        "                decrypted_char = chr((ord(char) - ord('A') - shift) % 26 + ord('A'))\n",
        "            else:\n",
        "                decrypted_char = chr((ord(char) - ord('a') - shift) % 26 + ord('a'))\n",
        "            decrypted_text += decrypted_char\n",
        "            key_index += 1\n",
        "        else:\n",
        "            decrypted_text += char\n",
        "    return decrypted_text\n",
        "\n",
        "\n",
        "\n",
        "\n",
        "# # Example usage:\n",
        "#  plaintext = \"HELLO WORLD\"\n",
        "#  key = \"WORLD\"\n",
        "\n",
        "# # Encrypt the plaintext using Vigenère Cipher\n",
        "# encrypted_message = vigenere_encrypt(plaintext, key)\n",
        "# print(\"Encrypted Message:\", encrypted_message)\n",
        "\n",
        "# # Decrypt the ciphertext using Vigenère Cipher\n",
        "# decrypted_message = vigenere_decrypt(encrypted_message, key)\n",
        "# print(\"Decrypted Message:\", decrypted_message)\n",
        "\n",
        "\n",
        "\n"
      ]
    },
    {
      "cell_type": "code",
      "execution_count": null,
      "metadata": {
        "colab": {
          "background_save": true,
          "base_uri": "https://localhost:8080/"
        },
        "id": "dOfao_2E5yyZ",
        "outputId": "7fde1deb-a098-49ad-c32f-a495abdb4c7e"
      },
      "outputs": [
        {
          "name": "stdout",
          "output_type": "stream",
          "text": [
            "Plain Text:  This is just an example to explain the problem\n",
            "Encrypted Message 1:  sape oT nlxtbhj ephliue leessxta m taoip i m nr \n",
            "Encrypted Message 2:  bkxi xC wvfxkqs oxlurdo tinbbhbe v cjyqt r v wb \n",
            "Encrypted Message 3:  YPCR CX DEUCPJH LCOFIWL GRMYYSYV E XQBJG I E DY \n",
            "Decrypted Message 1:  BKXI XC WVFXKQS OXLURDO TINBBHBE V CJYQT R V WB \n",
            "Decrypted Message 2:  SAPE OT NLXTBHJ EPHLIUE LEESSXTA M TAOIP I M NR \n",
            "Decrypted Message 3: THIS IS JUST AN EXAMPLE TO EXPLAIN THE PROBLEM\n",
            "Encrypted Message 3: UXJIHL 0RQHCIM L'WG10YX'Z  KNZYW0   XFJHQ.MXC,UBU .QCH   N0UJCU\n",
            "Decrypted Message 1: FCQRSO 0IJSXRN O'DT10BC'A  PMABD0   CUQSJ.NCX,FYF .JXS   M0FQXF\n",
            "Decrypted Message 2: WSINJF 0ZZKTIE F'TL10XT'R  GCSXU0   TLGKF.ETO,VQB .AOJ   C0XMOW\n"
          ]
        }
      ],
      "source": [
        "import string\n",
        "\n",
        "class AtbashCipher:\n",
        "    def __init__(self):\n",
        "        self.alphabet = string.ascii_uppercase\n",
        "\n",
        "    def encrypt3(self, plaintext):\n",
        "        plaintext = plaintext.upper()\n",
        "        encrypted_text = ''\n",
        "        for char in plaintext:\n",
        "            if char in self.alphabet:\n",
        "                index = self.alphabet.index(char)\n",
        "                encrypted_char = self.alphabet[(len(self.alphabet) - 1) - index]\n",
        "                encrypted_text += encrypted_char\n",
        "            else:\n",
        "                encrypted_text += char\n",
        "        return encrypted_text\n",
        "\n",
        "    def decrypt3(self, ciphertext):\n",
        "        ciphertext = ciphertext.upper()\n",
        "        decrypted_text = ''\n",
        "        for char in ciphertext:\n",
        "            if char in self.alphabet:\n",
        "                index = self.alphabet.index(char)\n",
        "                decrypted_char = self.alphabet[(len(self.alphabet) - 1) - index]\n",
        "                decrypted_text += decrypted_char\n",
        "            else:\n",
        "                decrypted_text += char\n",
        "        return decrypted_text\n",
        "\n",
        "\n",
        "# Example usage:\n",
        "atbash_cipher = AtbashCipher()\n",
        "\n",
        "plaintext = \" This is just an example to explain the problem\"\n",
        "key1 = \"explain\"\n",
        "print(\"Plain Text:\", plaintext)\n",
        "\n",
        "scytale_cipher = ScytaleCipher(len(key1))\n",
        "encrypted_message1 = scytale_cipher.encrypt1(plaintext)\n",
        "print(\"Encrypted Message 1:\", encrypted_message1)\n",
        "\n",
        "\n",
        "key2=\"SUCESS\"\n",
        "encrypted_message2 = vigenere_encrypt(encrypted_message1,key2)\n",
        "print(\"Encrypted Message 2:\", encrypted_message2)\n",
        "\n",
        "\n",
        "encrypted_message3 = atbash_cipher.encrypt3(encrypted_message2)\n",
        "print(\"Encrypted Message 3:\", encrypted_message3)\n",
        "\n",
        "\n",
        "decrypted_message1 = atbash_cipher.decrypt3(encrypted_message3)\n",
        "print(\"Decrypted Message 1:\", decrypted_message1)\n",
        "\n",
        "decrypted_message2 = vigenere_decrypt(decrypted_message1,key2)\n",
        "print(\"Decrypted Message 2:\", decrypted_message2)\n",
        "\n",
        "decrypted_message3 = scytale_cipher.decrypt1(decrypted_message2)\n",
        "print(\"Decrypted Message 3:\", decrypted_message3)\n",
        "\n",
        "e3=\"UXJIHL 0RQHCIM L'WG10YX'Z  KNZYW0   XFJHQ.MXC,UBU .QCH   N0UJCU\"\n",
        "print(\"Encrypted Message 3:\", e3)\n",
        "\n",
        "d1 = atbash_cipher.decrypt3(e3)\n",
        "print(\"Decrypted Message 1:\", d1)\n",
        "\n",
        "d2 = vigenere_decrypt(d1,key2)\n",
        "print(\"Decrypted Message 2:\", d2)\n",
        "\n",
        "\n"
      ]
    },
    {
      "cell_type": "code",
      "execution_count": null,
      "metadata": {
        "id": "BX3c2LzCN2Nk"
      },
      "outputs": [],
      "source": []
    },
    {
      "cell_type": "code",
      "execution_count": null,
      "metadata": {
        "id": "lWRU_2wC86g8"
      },
      "outputs": [],
      "source": [
        "Algorithm 1: Scytale Cipher\n",
        "    EncryptedMessage 1: ***l*jf ***n*Ie *'***0***r  ***s*0   *k****e***w*w **oi   **a*o*\"\n",
        "    Algorithm 2: Vigenere Cipher\n",
        "    Encrypted Message 2: **c*R*o 0****Rn ******b*'a  ****d0   **qs*******yf .**s   m0****\"\n",
        "    Algorithm 3: Atbash Cipher\n",
        "    Encrypted Message 3: \"UXJIHL 0RQHCIM L'WG10YX'Z  KNZYW0   XFJHQ.MXC,UBU .QCH   N0UJCU\""
      ]
    }
  ],
  "metadata": {
    "colab": {
      "provenance": [],
      "authorship_tag": "ABX9TyM3vMXAhun+QVRCcPBlxx2t",
      "include_colab_link": true
    },
    "kernelspec": {
      "display_name": "Python 3",
      "name": "python3"
    },
    "language_info": {
      "name": "python"
    }
  },
  "nbformat": 4,
  "nbformat_minor": 0
}